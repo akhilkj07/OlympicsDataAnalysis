{
 "cells": [
  {
   "cell_type": "markdown",
   "metadata": {
    "application/vnd.databricks.v1+cell": {
     "cellMetadata": {},
     "inputWidgets": {},
     "nuid": "5930152c-32e1-418f-926a-835bf224d983",
     "showTitle": false,
     "tableResultSettingsMap": {},
     "title": ""
    }
   },
   "source": [
    "####Connecting to ADLS container: \n",
    "####Step1: Register an application in Azure and give contributor access to the container where the data is located.\n",
    "####Step2: Mounting the data source to databricks warehouse using the client_id, secret_value, and tenant_id of the app."
   ]
  },
  {
   "cell_type": "code",
   "execution_count": 0,
   "metadata": {
    "application/vnd.databricks.v1+cell": {
     "cellMetadata": {
      "byteLimit": 2048000,
      "rowLimit": 10000
     },
     "inputWidgets": {},
     "nuid": "9d513a84-3200-4371-ad04-57ae365adae9",
     "showTitle": false,
     "tableResultSettingsMap": {},
     "title": ""
    }
   },
   "outputs": [],
   "source": [
    "configs = {\"fs.azure.account.auth.type\": \"OAuth\",\n",
    "\"fs.azure.account.oauth.provider.type\": \"org.apache.hadoop.fs.azurebfs.oauth2.ClientCredsTokenProvider\",\n",
    "\"fs.azure.account.oauth2.client.id\": \"insert_app_client_id\",\n",
    "\"fs.azure.account.oauth2.client.secret\": 'insert_app_secret_value',\n",
    "\"fs.azure.account.oauth2.client.endpoint\": \"https://login.microsoftonline.com/insert_tenant_id/oauth2/token\"}\n",
    "\n",
    "\n",
    "dbutils.fs.mount(\n",
    "source = \"abfss://tokyo-olympic-data@olympicdatalearn.dfs.core.windows.net\", # contrainer@storageacc\n",
    "mount_point = \"/mnt/tokyoolympics\",\n",
    "extra_configs = configs)"
   ]
  },
  {
   "cell_type": "markdown",
   "metadata": {
    "application/vnd.databricks.v1+cell": {
     "cellMetadata": {},
     "inputWidgets": {},
     "nuid": "0121e959-d2ac-4b67-803a-443a081e92b9",
     "showTitle": true,
     "tableResultSettingsMap": {},
     "title": ""
    },
    "jupyter": {
     "outputs_hidden": true
    }
   },
   "source": [
    "#####Mounting data to Databricks creates a link between a workspace and cloud object storage, allowing users to interact with the cloud object storage using the Databricks file system. This makes it easier to access data from multiple sources in one place, which can improve data organization and management. Note, if we delete a file from the mounted folder, it will be removed from the actual folder (in this case the blob container)."
   ]
  },
  {
   "cell_type": "code",
   "execution_count": 0,
   "metadata": {
    "application/vnd.databricks.v1+cell": {
     "cellMetadata": {
      "byteLimit": 2048000,
      "rowLimit": 10000
     },
     "inputWidgets": {},
     "nuid": "0c05d91f-5bf9-4870-b579-3eaa63b8a848",
     "showTitle": true,
     "tableResultSettingsMap": {},
     "title": ""
    },
    "jupyter": {
     "outputs_hidden": true
    }
   },
   "outputs": [
    {
     "output_type": "display_data",
     "data": {
      "text/html": [
       "<style scoped>\n",
       "  .table-result-container {\n",
       "    max-height: 300px;\n",
       "    overflow: auto;\n",
       "  }\n",
       "  table, th, td {\n",
       "    border: 1px solid black;\n",
       "    border-collapse: collapse;\n",
       "  }\n",
       "  th, td {\n",
       "    padding: 5px;\n",
       "  }\n",
       "  th {\n",
       "    text-align: left;\n",
       "  }\n",
       "</style><div class='table-result-container'><table class='table-result'><thead style='background-color: white'><tr><th>path</th><th>name</th><th>size</th><th>modificationTime</th></tr></thead><tbody><tr><td>dbfs:/mnt/tokyoolympics/raw-data/</td><td>raw-data/</td><td>0</td><td>1730487611000</td></tr><tr><td>dbfs:/mnt/tokyoolympics/transformed-data/</td><td>transformed-data/</td><td>0</td><td>1730487647000</td></tr></tbody></table></div>"
      ]
     },
     "metadata": {
      "application/vnd.databricks.v1+output": {
       "addedWidgets": {},
       "aggData": [],
       "aggError": "",
       "aggOverflow": false,
       "aggSchema": [],
       "aggSeriesLimitReached": false,
       "aggType": "",
       "arguments": {},
       "columnCustomDisplayInfos": {},
       "data": [
        [
         "dbfs:/mnt/tokyoolympics/raw-data/",
         "raw-data/",
         0,
         1730487611000
        ],
        [
         "dbfs:/mnt/tokyoolympics/transformed-data/",
         "transformed-data/",
         0,
         1730487647000
        ]
       ],
       "datasetInfos": [],
       "dbfsResultPath": null,
       "isJsonSchema": true,
       "metadata": {
        "isDbfsCommandResult": false
       },
       "overflow": false,
       "plotOptions": {
        "customPlotOptions": {},
        "displayType": "table",
        "pivotAggregation": null,
        "pivotColumns": null,
        "xColumns": null,
        "yColumns": null
       },
       "removedWidgets": [],
       "schema": [
        {
         "metadata": "{}",
         "name": "path",
         "type": "\"string\""
        },
        {
         "metadata": "{}",
         "name": "name",
         "type": "\"string\""
        },
        {
         "metadata": "{}",
         "name": "size",
         "type": "\"long\""
        },
        {
         "metadata": "{}",
         "name": "modificationTime",
         "type": "\"long\""
        }
       ],
       "type": "table"
      }
     },
     "output_type": "display_data"
    }
   ],
   "source": [
    "%fs ls \"/mnt/tokyoolympics\""
   ]
  },
  {
   "cell_type": "code",
   "execution_count": 0,
   "metadata": {
    "application/vnd.databricks.v1+cell": {
     "cellMetadata": {
      "byteLimit": 2048000,
      "rowLimit": 10000
     },
     "inputWidgets": {},
     "nuid": "f2398ef5-1ef4-473c-abf8-4d2d10bd3efb",
     "showTitle": false,
     "tableResultSettingsMap": {},
     "title": ""
    }
   },
   "outputs": [
    {
     "output_type": "stream",
     "name": "stdout",
     "output_type": "stream",
     "text": [
      "dbfs:/mnt/tokyoolymic/ has been unmounted.\n"
     ]
    },
    {
     "output_type": "execute_result",
     "data": {
      "text/plain": [
       "True"
      ]
     },
     "execution_count": 14,
     "metadata": {},
     "output_type": "execute_result"
    }
   ],
   "source": [
    "dbutils.fs.unmount(\"dbfs:/mnt/tokyoolymic/\")"
   ]
  },
  {
   "cell_type": "code",
   "execution_count": 0,
   "metadata": {
    "application/vnd.databricks.v1+cell": {
     "cellMetadata": {
      "byteLimit": 2048000,
      "rowLimit": 10000
     },
     "inputWidgets": {},
     "nuid": "512b124d-ca38-4a63-b941-607071ca2de1",
     "showTitle": false,
     "tableResultSettingsMap": {},
     "title": ""
    }
   },
   "outputs": [],
   "source": [
    "athletes_df = spark.read.format(\"csv\").option(\"header\",\"true\").load(\"dbfs:/mnt/tokyoolympics/raw-data/athletes.csv\")\n",
    "coaches_df = spark.read.format(\"csv\").option(\"header\",\"true\").load(\"dbfs:/mnt/tokyoolympics/raw-data/coaches.csv\")\n",
    "entries_df = spark.read.format(\"csv\").option(\"header\",\"true\").load(\"dbfs:/mnt/tokyoolympics/raw-data/entries.csv\")\n",
    "medals_df = spark.read.format(\"csv\").option(\"header\",\"true\").load(\"dbfs:/mnt/tokyoolympics/raw-data/medals.csv\")\n",
    "teams_df = spark.read.format(\"csv\").option(\"header\",\"true\").load(\"dbfs:/mnt/tokyoolympics/raw-data/teams.csv\")"
   ]
  },
  {
   "cell_type": "code",
   "execution_count": 0,
   "metadata": {
    "application/vnd.databricks.v1+cell": {
     "cellMetadata": {
      "byteLimit": 2048000,
      "rowLimit": 10000
     },
     "inputWidgets": {},
     "nuid": "612351c7-7355-4b61-a735-3fdb7911b96a",
     "showTitle": false,
     "tableResultSettingsMap": {},
     "title": ""
    }
   },
   "outputs": [
    {
     "output_type": "stream",
     "name": "stdout",
     "output_type": "stream",
     "text": [
      "+----+--------------------+----+------+------+-----+-------------+\n|Rank|         TeamCountry|Gold|Silver|Bronze|Total|Rank by Total|\n+----+--------------------+----+------+------+-----+-------------+\n|   1|United States of ...|  39|    41|    33|  113|            1|\n|   2|People's Republic...|  38|    32|    18|   88|            2|\n|   3|               Japan|  27|    14|    17|   58|            5|\n|   4|       Great Britain|  22|    21|    22|   65|            4|\n|   5|                 ROC|  20|    28|    23|   71|            3|\n|   6|           Australia|  17|     7|    22|   46|            6|\n|   7|         Netherlands|  10|    12|    14|   36|            9|\n|   8|              France|  10|    12|    11|   33|           10|\n|   9|             Germany|  10|    11|    16|   37|            8|\n|  10|               Italy|  10|    10|    20|   40|            7|\n|  11|              Canada|   7|     6|    11|   24|           11|\n|  12|              Brazil|   7|     6|     8|   21|           12|\n|  13|         New Zealand|   7|     6|     7|   20|           13|\n|  14|                Cuba|   7|     3|     5|   15|           18|\n|  15|             Hungary|   6|     7|     7|   20|           13|\n|  16|   Republic of Korea|   6|     4|    10|   20|           13|\n|  17|              Poland|   4|     5|     5|   14|           19|\n|  18|      Czech Republic|   4|     4|     3|   11|           23|\n|  19|               Kenya|   4|     4|     2|   10|           25|\n|  20|              Norway|   4|     2|     2|    8|           29|\n+----+--------------------+----+------+------+-----+-------------+\nonly showing top 20 rows\n\n"
     ]
    }
   ],
   "source": [
    "medals_df.show()"
   ]
  },
  {
   "cell_type": "code",
   "execution_count": 0,
   "metadata": {
    "application/vnd.databricks.v1+cell": {
     "cellMetadata": {
      "byteLimit": 2048000,
      "rowLimit": 10000
     },
     "inputWidgets": {},
     "nuid": "f436d451-0c6a-4464-b3b3-a60cb42de490",
     "showTitle": false,
     "tableResultSettingsMap": {},
     "title": ""
    }
   },
   "outputs": [
    {
     "output_type": "stream",
     "name": "stdout",
     "output_type": "stream",
     "text": [
      "+--------------------+--------------------+-----------------+--------+\n|                Name|             Country|       Discipline|   Event|\n+--------------------+--------------------+-----------------+--------+\n|     ABDELMAGID Wael|               Egypt|         Football|    NULL|\n|           ABE Junya|               Japan|       Volleyball|    NULL|\n|       ABE Katsuhiko|               Japan|       Basketball|    NULL|\n|        ADAMA Cherif|       C�te d'Ivoire|         Football|    NULL|\n|          AGEBA Yuya|               Japan|       Volleyball|    NULL|\n|AIKMAN Siegfried ...|               Japan|           Hockey|     Men|\n|       AL SAADI Kais|             Germany|           Hockey|     Men|\n|       ALAMEDA Lonni|              Canada|Baseball/Softball|Softball|\n|     ALEKNO Vladimir|Islamic Republic ...|       Volleyball|     Men|\n|     ALEKSEEV Alexey|                 ROC|         Handball|   Women|\n|ALLER CARBALLO Ma...|               Spain|       Basketball|    NULL|\n|       ALSHEHRI Saad|        Saudi Arabia|         Football|     Men|\n|           ALY Kamal|               Egypt|         Football|    NULL|\n| AMAYA GAITAN Fabian|         Puerto Rico|       Basketball|    NULL|\n|    AMO AGUADO Pablo|               Spain|         Football|    NULL|\n|   ANDONOVSKI Vlatko|United States of ...|         Football|   Women|\n|        ANNAN Alyson|         Netherlands|           Hockey|   Women|\n|  ARNAU CREUS Xavier|               Japan|           Hockey|   Women|\n|       ARNOLD Graham|           Australia|         Football|     Men|\n|         AXNER Tomas|              Sweden|         Handball|   Women|\n+--------------------+--------------------+-----------------+--------+\nonly showing top 20 rows\n\n"
     ]
    }
   ],
   "source": [
    "coaches_df.show()"
   ]
  },
  {
   "cell_type": "code",
   "execution_count": 0,
   "metadata": {
    "application/vnd.databricks.v1+cell": {
     "cellMetadata": {
      "byteLimit": 2048000,
      "rowLimit": 10000
     },
     "inputWidgets": {},
     "nuid": "be1b1c78-6174-416f-8a43-44eebc977c5f",
     "showTitle": false,
     "tableResultSettingsMap": {},
     "title": ""
    }
   },
   "outputs": [
    {
     "output_type": "stream",
     "name": "stdout",
     "output_type": "stream",
     "text": [
      "root\n |-- Name: string (nullable = true)\n |-- Country: string (nullable = true)\n |-- Discipline: string (nullable = true)\n |-- Event: string (nullable = true)\n\n"
     ]
    }
   ],
   "source": [
    "coaches_df.printSchema()"
   ]
  },
  {
   "cell_type": "code",
   "execution_count": 0,
   "metadata": {
    "application/vnd.databricks.v1+cell": {
     "cellMetadata": {
      "byteLimit": 2048000,
      "rowLimit": 10000
     },
     "inputWidgets": {},
     "nuid": "53359874-f2e6-4880-8058-52131fbee175",
     "showTitle": false,
     "tableResultSettingsMap": {},
     "title": ""
    }
   },
   "outputs": [
    {
     "output_type": "stream",
     "name": "stdout",
     "output_type": "stream",
     "text": [
      "+--------------------+------+----+-----+\n|          Discipline|Female|Male|Total|\n+--------------------+------+----+-----+\n|      3x3 Basketball|    32|  32|   64|\n|             Archery|    64|  64|  128|\n| Artistic Gymnastics|    98|  98|  196|\n|   Artistic Swimming|   105|   0|  105|\n|           Athletics|   969|1072| 2041|\n|           Badminton|    86|  87|  173|\n|   Baseball/Softball|    90| 144|  234|\n|          Basketball|   144| 144|  288|\n|    Beach Volleyball|    48|  48|   96|\n|              Boxing|   102| 187|  289|\n|        Canoe Slalom|    41|  41|   82|\n|        Canoe Sprint|   123| 126|  249|\n|Cycling BMX Frees...|    10|   9|   19|\n|  Cycling BMX Racing|    24|  24|   48|\n|Cycling Mountain ...|    38|  38|   76|\n|        Cycling Road|    70| 131|  201|\n|       Cycling Track|    90|  99|  189|\n|              Diving|    72|  71|  143|\n|          Equestrian|    73| 125|  198|\n|             Fencing|   107| 108|  215|\n+--------------------+------+----+-----+\nonly showing top 20 rows\n\n"
     ]
    }
   ],
   "source": [
    "entries_df.show()"
   ]
  },
  {
   "cell_type": "code",
   "execution_count": 0,
   "metadata": {
    "application/vnd.databricks.v1+cell": {
     "cellMetadata": {
      "byteLimit": 2048000,
      "rowLimit": 10000
     },
     "inputWidgets": {},
     "nuid": "edadf040-6806-42f6-9b86-a35c631d3ffc",
     "showTitle": false,
     "tableResultSettingsMap": {},
     "title": ""
    }
   },
   "outputs": [
    {
     "output_type": "stream",
     "name": "stdout",
     "output_type": "stream",
     "text": [
      "root\n |-- Discipline: string (nullable = true)\n |-- Female: string (nullable = true)\n |-- Male: string (nullable = true)\n |-- Total: string (nullable = true)\n\n"
     ]
    }
   ],
   "source": [
    "entries_df.printSchema()"
   ]
  },
  {
   "cell_type": "markdown",
   "metadata": {
    "application/vnd.databricks.v1+cell": {
     "cellMetadata": {},
     "inputWidgets": {},
     "nuid": "b2f2905f-db73-4ee6-8a71-bbd5949b4296",
     "showTitle": false,
     "tableResultSettingsMap": {},
     "title": ""
    }
   },
   "source": [
    "####As you can see, the datatype of 3 columns are string so we need to change that to accomodate numerical values"
   ]
  },
  {
   "cell_type": "code",
   "execution_count": 0,
   "metadata": {
    "application/vnd.databricks.v1+cell": {
     "cellMetadata": {
      "byteLimit": 2048000,
      "rowLimit": 10000
     },
     "inputWidgets": {},
     "nuid": "5d10a297-4fc7-4228-a272-4606e519d637",
     "showTitle": false,
     "tableResultSettingsMap": {},
     "title": ""
    }
   },
   "outputs": [],
   "source": [
    "from pyspark.sql.functions import col,round\n",
    "from pyspark.sql.types import IntegerType, DoubleType, BooleanType, DateType"
   ]
  },
  {
   "cell_type": "code",
   "execution_count": 0,
   "metadata": {
    "application/vnd.databricks.v1+cell": {
     "cellMetadata": {
      "byteLimit": 2048000,
      "rowLimit": 10000
     },
     "inputWidgets": {},
     "nuid": "42daf30f-e772-4f3e-9a64-539e6ac36149",
     "showTitle": false,
     "tableResultSettingsMap": {},
     "title": ""
    }
   },
   "outputs": [],
   "source": [
    "entries_df = entries_df.withColumn(\"Female\",col(\"Female\").cast(IntegerType()))\\\n",
    "             .withColumn(\"Male\",col(\"Male\").cast(IntegerType()))\\\n",
    "             .withColumn(\"TotalEntries\",col(\"total\").cast(IntegerType()))"
   ]
  },
  {
   "cell_type": "code",
   "execution_count": 0,
   "metadata": {
    "application/vnd.databricks.v1+cell": {
     "cellMetadata": {
      "byteLimit": 2048000,
      "rowLimit": 10000
     },
     "inputWidgets": {},
     "nuid": "cdd271ea-f3ab-47d6-8af1-c40e5b0cfc57",
     "showTitle": false,
     "tableResultSettingsMap": {},
     "title": ""
    }
   },
   "outputs": [
    {
     "output_type": "stream",
     "name": "stdout",
     "output_type": "stream",
     "text": [
      "+--------------------+------+----+-----+------------+\n|          Discipline|Female|Male|Total|TotalEntries|\n+--------------------+------+----+-----+------------+\n|      3x3 Basketball|    32|  32|   64|          64|\n|             Archery|    64|  64|  128|         128|\n| Artistic Gymnastics|    98|  98|  196|         196|\n|   Artistic Swimming|   105|   0|  105|         105|\n|           Athletics|   969|1072| 2041|        2041|\n|           Badminton|    86|  87|  173|         173|\n|   Baseball/Softball|    90| 144|  234|         234|\n|          Basketball|   144| 144|  288|         288|\n|    Beach Volleyball|    48|  48|   96|          96|\n|              Boxing|   102| 187|  289|         289|\n|        Canoe Slalom|    41|  41|   82|          82|\n|        Canoe Sprint|   123| 126|  249|         249|\n|Cycling BMX Frees...|    10|   9|   19|          19|\n|  Cycling BMX Racing|    24|  24|   48|          48|\n|Cycling Mountain ...|    38|  38|   76|          76|\n|        Cycling Road|    70| 131|  201|         201|\n|       Cycling Track|    90|  99|  189|         189|\n|              Diving|    72|  71|  143|         143|\n|          Equestrian|    73| 125|  198|         198|\n|             Fencing|   107| 108|  215|         215|\n+--------------------+------+----+-----+------------+\nonly showing top 20 rows\n\n"
     ]
    }
   ],
   "source": [
    "entries_df.show()"
   ]
  },
  {
   "cell_type": "code",
   "execution_count": 0,
   "metadata": {
    "application/vnd.databricks.v1+cell": {
     "cellMetadata": {
      "byteLimit": 2048000,
      "rowLimit": 10000
     },
     "inputWidgets": {},
     "nuid": "bfa7103c-cb4e-417b-b7bf-5e80d3b78885",
     "showTitle": false,
     "tableResultSettingsMap": {},
     "title": ""
    }
   },
   "outputs": [
    {
     "output_type": "stream",
     "name": "stdout",
     "output_type": "stream",
     "text": [
      "root\n |-- Discipline: string (nullable = true)\n |-- Female: integer (nullable = true)\n |-- Male: integer (nullable = true)\n |-- Total: string (nullable = true)\n |-- TotalEntries: integer (nullable = true)\n\n"
     ]
    }
   ],
   "source": [
    "entries_df.printSchema()"
   ]
  },
  {
   "cell_type": "code",
   "execution_count": 0,
   "metadata": {
    "application/vnd.databricks.v1+cell": {
     "cellMetadata": {
      "byteLimit": 2048000,
      "rowLimit": 10000
     },
     "inputWidgets": {},
     "nuid": "e646dd52-94fd-4b11-a219-4cb9d40010f6",
     "showTitle": false,
     "tableResultSettingsMap": {},
     "title": ""
    }
   },
   "outputs": [
    {
     "output_type": "execute_result",
     "data": {
      "text/plain": [
       "DataFrame[Discipline: string, Female: int, Male: int, TotalEntries: int]"
      ]
     },
     "execution_count": 9,
     "metadata": {},
     "output_type": "execute_result"
    }
   ],
   "source": [
    "entries_df.drop(\"Total\")"
   ]
  },
  {
   "cell_type": "markdown",
   "metadata": {
    "application/vnd.databricks.v1+cell": {
     "cellMetadata": {},
     "inputWidgets": {},
     "nuid": "78670065-5666-4fec-b962-91ec2de46ca3",
     "showTitle": false,
     "tableResultSettingsMap": {},
     "title": ""
    }
   },
   "source": [
    "####Instead of changing datatype of columns individually for all dataframes, we can make use of inferschema option to get the datatype from the source."
   ]
  },
  {
   "cell_type": "code",
   "execution_count": 0,
   "metadata": {
    "application/vnd.databricks.v1+cell": {
     "cellMetadata": {
      "byteLimit": 2048000,
      "rowLimit": 10000
     },
     "inputWidgets": {},
     "nuid": "418951a3-a76f-486f-8285-be7386444e88",
     "showTitle": false,
     "tableResultSettingsMap": {},
     "title": ""
    }
   },
   "outputs": [],
   "source": [
    "athletes_df = spark.read.format(\"csv\").option(\"header\",\"true\").option(\"inferSchema\",\"true\").load(\"dbfs:/mnt/tokyoolympics/raw-data/athletes.csv\")\n",
    "coaches_df = spark.read.format(\"csv\").option(\"header\",\"true\").option(\"inferSchema\",\"true\").load(\"dbfs:/mnt/tokyoolympics/raw-data/coaches.csv\")\n",
    "entries_df = spark.read.format(\"csv\").option(\"header\",\"true\").option(\"inferSchema\",\"true\").load(\"dbfs:/mnt/tokyoolympics/raw-data/entries.csv\")\n",
    "medals_df = spark.read.format(\"csv\").option(\"header\",\"true\").option(\"inferSchema\",\"true\").load(\"dbfs:/mnt/tokyoolympics/raw-data/medals.csv\")\n",
    "teams_df = spark.read.format(\"csv\").option(\"header\",\"true\").option(\"inferSchema\",\"true\").load(\"dbfs:/mnt/tokyoolympics/raw-data/teams.csv\")"
   ]
  },
  {
   "cell_type": "code",
   "execution_count": 0,
   "metadata": {
    "application/vnd.databricks.v1+cell": {
     "cellMetadata": {
      "byteLimit": 2048000,
      "rowLimit": 10000
     },
     "inputWidgets": {},
     "nuid": "58ce1907-be9f-42ba-b9c6-dbe3154657fe",
     "showTitle": false,
     "tableResultSettingsMap": {},
     "title": ""
    }
   },
   "outputs": [
    {
     "output_type": "stream",
     "name": "stdout",
     "output_type": "stream",
     "text": [
      "+----+--------------------+----+------+------+-----+-------------+\n|Rank|         TeamCountry|Gold|Silver|Bronze|Total|Rank by Total|\n+----+--------------------+----+------+------+-----+-------------+\n|   1|United States of ...|  39|    41|    33|  113|            1|\n|   2|People's Republic...|  38|    32|    18|   88|            2|\n|   3|               Japan|  27|    14|    17|   58|            5|\n|   4|       Great Britain|  22|    21|    22|   65|            4|\n|   5|                 ROC|  20|    28|    23|   71|            3|\n|   6|           Australia|  17|     7|    22|   46|            6|\n|   7|         Netherlands|  10|    12|    14|   36|            9|\n|   8|              France|  10|    12|    11|   33|           10|\n|   9|             Germany|  10|    11|    16|   37|            8|\n|  10|               Italy|  10|    10|    20|   40|            7|\n|  11|              Canada|   7|     6|    11|   24|           11|\n|  12|              Brazil|   7|     6|     8|   21|           12|\n|  13|         New Zealand|   7|     6|     7|   20|           13|\n|  14|                Cuba|   7|     3|     5|   15|           18|\n|  15|             Hungary|   6|     7|     7|   20|           13|\n|  16|   Republic of Korea|   6|     4|    10|   20|           13|\n|  17|              Poland|   4|     5|     5|   14|           19|\n|  18|      Czech Republic|   4|     4|     3|   11|           23|\n|  19|               Kenya|   4|     4|     2|   10|           25|\n|  20|              Norway|   4|     2|     2|    8|           29|\n+----+--------------------+----+------+------+-----+-------------+\nonly showing top 20 rows\n\n"
     ]
    }
   ],
   "source": [
    "medals_df.show()"
   ]
  },
  {
   "cell_type": "code",
   "execution_count": 0,
   "metadata": {
    "application/vnd.databricks.v1+cell": {
     "cellMetadata": {
      "byteLimit": 2048000,
      "rowLimit": 10000
     },
     "inputWidgets": {},
     "nuid": "5e0dbea6-637b-412d-86d5-fe8bd77f4426",
     "showTitle": false,
     "tableResultSettingsMap": {},
     "title": ""
    }
   },
   "outputs": [
    {
     "output_type": "stream",
     "name": "stdout",
     "output_type": "stream",
     "text": [
      "root\n |-- Rank: integer (nullable = true)\n |-- TeamCountry: string (nullable = true)\n |-- Gold: integer (nullable = true)\n |-- Silver: integer (nullable = true)\n |-- Bronze: integer (nullable = true)\n |-- Total: integer (nullable = true)\n |-- Rank by Total: integer (nullable = true)\n\n"
     ]
    }
   ],
   "source": [
    "medals_df.printSchema()"
   ]
  },
  {
   "cell_type": "markdown",
   "metadata": {
    "application/vnd.databricks.v1+cell": {
     "cellMetadata": {},
     "inputWidgets": {},
     "nuid": "b5ee8922-105c-47c4-85eb-f9cdb82d462e",
     "showTitle": false,
     "tableResultSettingsMap": {},
     "title": ""
    }
   },
   "source": [
    "####As you can see, integer datatype is applied for the respective columns with numbers"
   ]
  },
  {
   "cell_type": "markdown",
   "metadata": {
    "application/vnd.databricks.v1+cell": {
     "cellMetadata": {},
     "inputWidgets": {},
     "nuid": "5d23fb3d-fb53-4d95-a852-3b3b0cabe8a5",
     "showTitle": false,
     "tableResultSettingsMap": {},
     "title": ""
    }
   },
   "source": [
    "####Let's do some basic data analysis"
   ]
  },
  {
   "cell_type": "code",
   "execution_count": 0,
   "metadata": {
    "application/vnd.databricks.v1+cell": {
     "cellMetadata": {
      "byteLimit": 2048000,
      "rowLimit": 10000
     },
     "inputWidgets": {},
     "nuid": "8100b30c-4198-4452-8f38-67559ad2ac48",
     "showTitle": false,
     "tableResultSettingsMap": {},
     "title": ""
    }
   },
   "outputs": [
    {
     "output_type": "stream",
     "name": "stdout",
     "output_type": "stream",
     "text": [
      "+--------------------+------------+\n|         TeamCountry|Total_Points|\n+--------------------+------------+\n|United States of ...|         113|\n|People's Republic...|          88|\n|                 ROC|          71|\n|       Great Britain|          65|\n|               Japan|          58|\n|           Australia|          46|\n|               Italy|          40|\n|             Germany|          37|\n|         Netherlands|          36|\n|              France|          33|\n|              Canada|          24|\n|              Brazil|          21|\n|         New Zealand|          20|\n|             Hungary|          20|\n|   Republic of Korea|          20|\n|             Ukraine|          19|\n|               Spain|          17|\n|                Cuba|          15|\n|              Poland|          14|\n|         Switzerland|          13|\n+--------------------+------------+\nonly showing top 20 rows\n\n"
     ]
    }
   ],
   "source": [
    "#Find top countries based on total points\n",
    "country_performance_ranking = medals_df.select(\"TeamCountry\",col(\"Total\").alias(\"Total_Points\")).orderBy(\"Total\",ascending=False).show()"
   ]
  },
  {
   "cell_type": "code",
   "execution_count": 0,
   "metadata": {
    "application/vnd.databricks.v1+cell": {
     "cellMetadata": {
      "byteLimit": 2048000,
      "rowLimit": 10000
     },
     "inputWidgets": {},
     "nuid": "1ae07c12-9cf6-4696-b15d-d3ad00b57ffe",
     "showTitle": false,
     "tableResultSettingsMap": {},
     "title": ""
    }
   },
   "outputs": [
    {
     "output_type": "stream",
     "name": "stdout",
     "output_type": "stream",
     "text": [
      "+--------------------+---------------+-----------------+-----------------+\n|             Country|Gold_percentage|Silver_percentage|Bronze_percentage|\n+--------------------+---------------+-----------------+-----------------+\n|United States of ...|          34.51|            34.51|            34.51|\n|People's Republic...|          43.18|            43.18|            43.18|\n|               Japan|          46.55|            46.55|            46.55|\n|       Great Britain|          33.85|            33.85|            33.85|\n|                 ROC|          28.17|            28.17|            28.17|\n|           Australia|          36.96|            36.96|            36.96|\n|         Netherlands|          27.78|            27.78|            27.78|\n|              France|           30.3|             30.3|             30.3|\n|             Germany|          27.03|            27.03|            27.03|\n|               Italy|           25.0|             25.0|             25.0|\n|              Canada|          29.17|            29.17|            29.17|\n|              Brazil|          33.33|            33.33|            33.33|\n|         New Zealand|           35.0|             35.0|             35.0|\n|                Cuba|          46.67|            46.67|            46.67|\n|             Hungary|           30.0|             30.0|             30.0|\n|   Republic of Korea|           30.0|             30.0|             30.0|\n|              Poland|          28.57|            28.57|            28.57|\n|      Czech Republic|          36.36|            36.36|            36.36|\n|               Kenya|           40.0|             40.0|             40.0|\n|              Norway|           50.0|             50.0|             50.0|\n+--------------------+---------------+-----------------+-----------------+\nonly showing top 20 rows\n\n"
     ]
    }
   ],
   "source": [
    "# Calculate the percentage of each medal type\n",
    "medals_percentage_df = medals_df.withColumn(\n",
    "    \"Gold_percentage\",round((col(\"Gold\")/col(\"Total\"))*100,2)\n",
    ").withColumn(\n",
    "    \"Silver_percentage\",round((col(\"Gold\")/col(\"Total\"))*100,2)\n",
    ").withColumn(\n",
    "    \"Bronze_Percentage\",round((col(\"Gold\")/col(\"Total\"))*100,2)\n",
    ").select(col(\"TeamCountry\").alias(\"Country\"),\"Gold_percentage\",\"Silver_percentage\",\"Bronze_percentage\")\n",
    "# Show the result\n",
    "medals_percentage_df.show()\n"
   ]
  },
  {
   "cell_type": "markdown",
   "metadata": {
    "application/vnd.databricks.v1+cell": {
     "cellMetadata": {},
     "inputWidgets": {},
     "nuid": "756700b1-bf54-43dc-9f1a-21020cd90795",
     "showTitle": false,
     "tableResultSettingsMap": {},
     "title": ""
    }
   },
   "source": [
    "####Now, let's move the transformed data into the respective folder in the Azure Storage Container"
   ]
  },
  {
   "cell_type": "code",
   "execution_count": 0,
   "metadata": {
    "application/vnd.databricks.v1+cell": {
     "cellMetadata": {
      "byteLimit": 2048000,
      "rowLimit": 10000
     },
     "inputWidgets": {},
     "nuid": "be7ca7cb-e3e6-4c12-bd85-e936bc8e44d9",
     "showTitle": false,
     "tableResultSettingsMap": {},
     "title": ""
    }
   },
   "outputs": [],
   "source": [
    "athletes_df.write.option(\"header\",\"true\").csv(\"dbfs:/mnt/tokyoolympics/transformed-data/athletes\")\n"
   ]
  },
  {
   "cell_type": "markdown",
   "metadata": {
    "application/vnd.databricks.v1+cell": {
     "cellMetadata": {},
     "inputWidgets": {},
     "nuid": "ca2d0af8-8eca-436d-b038-44bfcd692c43",
     "showTitle": false,
     "tableResultSettingsMap": {},
     "title": ""
    }
   },
   "source": [
    "####If you check the container you can see that a folder has been created in the name athletes. This is because Apache spark stores the data with its metadata. If you try to run the above cell again, it will throw error as it already exists at the destination. To avoid that, you can use overwrite option."
   ]
  },
  {
   "cell_type": "code",
   "execution_count": 0,
   "metadata": {
    "application/vnd.databricks.v1+cell": {
     "cellMetadata": {
      "byteLimit": 2048000,
      "rowLimit": 10000
     },
     "inputWidgets": {},
     "nuid": "7d95d416-a306-4e73-a271-10a9d6bde442",
     "showTitle": false,
     "tableResultSettingsMap": {},
     "title": ""
    }
   },
   "outputs": [],
   "source": [
    "teams_df.write.mode(\"overwrite\").option(\"header\",\"true\").csv(\"dbfs:/mnt/tokyoolympics/transformed-data/teams\")"
   ]
  },
  {
   "cell_type": "markdown",
   "metadata": {
    "application/vnd.databricks.v1+cell": {
     "cellMetadata": {},
     "inputWidgets": {},
     "nuid": "3da1b115-a7c1-47a7-b572-aca647f23d78",
     "showTitle": false,
     "tableResultSettingsMap": {},
     "title": ""
    }
   },
   "source": [
    "####If you run the above cell multiple times, it will create more metadata in the folder whereas the data file will be replaced. Also, there is only one data file because its a small file, in case of large files, there could be multiple data files. You can also explicitly give data partition to set number of data files."
   ]
  },
  {
   "cell_type": "code",
   "execution_count": 0,
   "metadata": {
    "application/vnd.databricks.v1+cell": {
     "cellMetadata": {
      "byteLimit": 2048000,
      "rowLimit": 10000
     },
     "inputWidgets": {},
     "nuid": "3d542f6b-ee70-413f-b570-500de6a28a73",
     "showTitle": false,
     "tableResultSettingsMap": {},
     "title": ""
    }
   },
   "outputs": [],
   "source": [
    "coaches_df.repartition(2).write.mode(\"overwrite\").option(\"header\",\"true\").csv(\"dbfs:/mnt/tokyoolympics/transformed-data/coaches\")"
   ]
  },
  {
   "cell_type": "markdown",
   "metadata": {
    "application/vnd.databricks.v1+cell": {
     "cellMetadata": {},
     "inputWidgets": {},
     "nuid": "5eeb8133-90bd-416f-bde7-4960f576ad7f",
     "showTitle": false,
     "tableResultSettingsMap": {},
     "title": ""
    }
   },
   "source": [
    "####As you can see in the coaches folder in the container, there are two data files because we explicitly did that."
   ]
  },
  {
   "cell_type": "code",
   "execution_count": 0,
   "metadata": {
    "application/vnd.databricks.v1+cell": {
     "cellMetadata": {
      "byteLimit": 2048000,
      "rowLimit": 10000
     },
     "inputWidgets": {},
     "nuid": "1386b7d2-bedc-4035-8e19-f47151d8bfa7",
     "showTitle": false,
     "tableResultSettingsMap": {},
     "title": ""
    }
   },
   "outputs": [],
   "source": [
    "medals_df.write.mode(\"overwrite\").option(\"header\",\"true\").csv(\"dbfs:/mnt/tokyoolympics/transformed-data/medals.csv\")"
   ]
  },
  {
   "cell_type": "markdown",
   "metadata": {
    "application/vnd.databricks.v1+cell": {
     "cellMetadata": {},
     "inputWidgets": {},
     "nuid": "cf8441e4-0027-4934-826f-f6329d66fece",
     "showTitle": false,
     "tableResultSettingsMap": {},
     "title": ""
    }
   },
   "source": [
    "####Even if you give file name with .csv it will just take it as the name of the folder. In order to move just the file, we have to convert the dataframe into a pandas df and then write it to the destination. "
   ]
  },
  {
   "cell_type": "code",
   "execution_count": 0,
   "metadata": {
    "application/vnd.databricks.v1+cell": {
     "cellMetadata": {
      "byteLimit": 2048000,
      "rowLimit": 10000
     },
     "inputWidgets": {},
     "nuid": "f96f3dbc-78c8-4ea4-b8fd-b63e140d9115",
     "showTitle": false,
     "tableResultSettingsMap": {},
     "title": ""
    }
   },
   "outputs": [],
   "source": [
    "medals_percentage_pdf = medals_percentage_df.toPandas()"
   ]
  },
  {
   "cell_type": "code",
   "execution_count": 0,
   "metadata": {
    "application/vnd.databricks.v1+cell": {
     "cellMetadata": {
      "byteLimit": 2048000,
      "rowLimit": 10000
     },
     "inputWidgets": {},
     "nuid": "b19cfecb-8fc5-4c52-ba81-f0af357e6080",
     "showTitle": false,
     "tableResultSettingsMap": {},
     "title": ""
    }
   },
   "outputs": [
    {
     "output_type": "display_data",
     "data": {
      "text/html": [
       "<style scoped>\n",
       "  .table-result-container {\n",
       "    max-height: 300px;\n",
       "    overflow: auto;\n",
       "  }\n",
       "  table, th, td {\n",
       "    border: 1px solid black;\n",
       "    border-collapse: collapse;\n",
       "  }\n",
       "  th, td {\n",
       "    padding: 5px;\n",
       "  }\n",
       "  th {\n",
       "    text-align: left;\n",
       "  }\n",
       "</style><div class='table-result-container'><table class='table-result'><thead style='background-color: white'><tr><th>Country</th><th>Gold_percentage</th><th>Silver_percentage</th><th>Bronze_percentage</th></tr></thead><tbody><tr><td>United States of America</td><td>34.51</td><td>34.51</td><td>34.51</td></tr><tr><td>People's Republic of China</td><td>43.18</td><td>43.18</td><td>43.18</td></tr><tr><td>Japan</td><td>46.55</td><td>46.55</td><td>46.55</td></tr><tr><td>Great Britain</td><td>33.85</td><td>33.85</td><td>33.85</td></tr><tr><td>ROC</td><td>28.17</td><td>28.17</td><td>28.17</td></tr><tr><td>Australia</td><td>36.96</td><td>36.96</td><td>36.96</td></tr><tr><td>Netherlands</td><td>27.78</td><td>27.78</td><td>27.78</td></tr><tr><td>France</td><td>30.3</td><td>30.3</td><td>30.3</td></tr><tr><td>Germany</td><td>27.03</td><td>27.03</td><td>27.03</td></tr><tr><td>Italy</td><td>25.0</td><td>25.0</td><td>25.0</td></tr><tr><td>Canada</td><td>29.17</td><td>29.17</td><td>29.17</td></tr><tr><td>Brazil</td><td>33.33</td><td>33.33</td><td>33.33</td></tr><tr><td>New Zealand</td><td>35.0</td><td>35.0</td><td>35.0</td></tr><tr><td>Cuba</td><td>46.67</td><td>46.67</td><td>46.67</td></tr><tr><td>Hungary</td><td>30.0</td><td>30.0</td><td>30.0</td></tr><tr><td>Republic of Korea</td><td>30.0</td><td>30.0</td><td>30.0</td></tr><tr><td>Poland</td><td>28.57</td><td>28.57</td><td>28.57</td></tr><tr><td>Czech Republic</td><td>36.36</td><td>36.36</td><td>36.36</td></tr><tr><td>Kenya</td><td>40.0</td><td>40.0</td><td>40.0</td></tr><tr><td>Norway</td><td>50.0</td><td>50.0</td><td>50.0</td></tr><tr><td>Jamaica</td><td>44.44</td><td>44.44</td><td>44.44</td></tr><tr><td>Spain</td><td>17.65</td><td>17.65</td><td>17.65</td></tr><tr><td>Sweden</td><td>33.33</td><td>33.33</td><td>33.33</td></tr><tr><td>Switzerland</td><td>23.08</td><td>23.08</td><td>23.08</td></tr><tr><td>Denmark</td><td>27.27</td><td>27.27</td><td>27.27</td></tr><tr><td>Croatia</td><td>37.5</td><td>37.5</td><td>37.5</td></tr><tr><td>Islamic Republic of Iran</td><td>42.86</td><td>42.86</td><td>42.86</td></tr><tr><td>Serbia</td><td>33.33</td><td>33.33</td><td>33.33</td></tr><tr><td>Belgium</td><td>42.86</td><td>42.86</td><td>42.86</td></tr><tr><td>Bulgaria</td><td>50.0</td><td>50.0</td><td>50.0</td></tr><tr><td>Slovenia</td><td>60.0</td><td>60.0</td><td>60.0</td></tr><tr><td>Uzbekistan</td><td>60.0</td><td>60.0</td><td>60.0</td></tr><tr><td>Georgia</td><td>25.0</td><td>25.0</td><td>25.0</td></tr><tr><td>Chinese Taipei</td><td>16.67</td><td>16.67</td><td>16.67</td></tr><tr><td>Turkey</td><td>15.38</td><td>15.38</td><td>15.38</td></tr><tr><td>Greece</td><td>50.0</td><td>50.0</td><td>50.0</td></tr><tr><td>Uganda</td><td>50.0</td><td>50.0</td><td>50.0</td></tr><tr><td>Ecuador</td><td>66.67</td><td>66.67</td><td>66.67</td></tr><tr><td>Ireland</td><td>50.0</td><td>50.0</td><td>50.0</td></tr><tr><td>Israel</td><td>50.0</td><td>50.0</td><td>50.0</td></tr><tr><td>Qatar</td><td>66.67</td><td>66.67</td><td>66.67</td></tr><tr><td>Bahamas</td><td>100.0</td><td>100.0</td><td>100.0</td></tr><tr><td>Kosovo</td><td>100.0</td><td>100.0</td><td>100.0</td></tr><tr><td>Ukraine</td><td>5.26</td><td>5.26</td><td>5.26</td></tr><tr><td>Belarus</td><td>14.29</td><td>14.29</td><td>14.29</td></tr><tr><td>Romania</td><td>25.0</td><td>25.0</td><td>25.0</td></tr><tr><td>Venezuela</td><td>25.0</td><td>25.0</td><td>25.0</td></tr><tr><td>India</td><td>14.29</td><td>14.29</td><td>14.29</td></tr><tr><td>Hong Kong, China</td><td>16.67</td><td>16.67</td><td>16.67</td></tr><tr><td>Philippines</td><td>25.0</td><td>25.0</td><td>25.0</td></tr><tr><td>Slovakia</td><td>25.0</td><td>25.0</td><td>25.0</td></tr><tr><td>South Africa</td><td>33.33</td><td>33.33</td><td>33.33</td></tr><tr><td>Austria</td><td>14.29</td><td>14.29</td><td>14.29</td></tr><tr><td>Egypt</td><td>16.67</td><td>16.67</td><td>16.67</td></tr><tr><td>Indonesia</td><td>20.0</td><td>20.0</td><td>20.0</td></tr><tr><td>Ethiopia</td><td>25.0</td><td>25.0</td><td>25.0</td></tr><tr><td>Portugal</td><td>25.0</td><td>25.0</td><td>25.0</td></tr><tr><td>Tunisia</td><td>50.0</td><td>50.0</td><td>50.0</td></tr><tr><td>Estonia</td><td>50.0</td><td>50.0</td><td>50.0</td></tr><tr><td>Fiji</td><td>50.0</td><td>50.0</td><td>50.0</td></tr><tr><td>Latvia</td><td>50.0</td><td>50.0</td><td>50.0</td></tr><tr><td>Thailand</td><td>50.0</td><td>50.0</td><td>50.0</td></tr><tr><td>Bermuda</td><td>100.0</td><td>100.0</td><td>100.0</td></tr><tr><td>Morocco</td><td>100.0</td><td>100.0</td><td>100.0</td></tr><tr><td>Puerto Rico</td><td>100.0</td><td>100.0</td><td>100.0</td></tr><tr><td>Colombia</td><td>0.0</td><td>0.0</td><td>0.0</td></tr><tr><td>Azerbaijan</td><td>0.0</td><td>0.0</td><td>0.0</td></tr><tr><td>Dominican Republic</td><td>0.0</td><td>0.0</td><td>0.0</td></tr><tr><td>Armenia</td><td>0.0</td><td>0.0</td><td>0.0</td></tr><tr><td>Kyrgyzstan</td><td>0.0</td><td>0.0</td><td>0.0</td></tr><tr><td>Mongolia</td><td>0.0</td><td>0.0</td><td>0.0</td></tr><tr><td>Argentina</td><td>0.0</td><td>0.0</td><td>0.0</td></tr><tr><td>San Marino</td><td>0.0</td><td>0.0</td><td>0.0</td></tr><tr><td>Jordan</td><td>0.0</td><td>0.0</td><td>0.0</td></tr><tr><td>Malaysia</td><td>0.0</td><td>0.0</td><td>0.0</td></tr><tr><td>Nigeria</td><td>0.0</td><td>0.0</td><td>0.0</td></tr><tr><td>Bahrain</td><td>0.0</td><td>0.0</td><td>0.0</td></tr><tr><td>Saudi Arabia</td><td>0.0</td><td>0.0</td><td>0.0</td></tr><tr><td>Lithuania</td><td>0.0</td><td>0.0</td><td>0.0</td></tr><tr><td>North Macedonia</td><td>0.0</td><td>0.0</td><td>0.0</td></tr><tr><td>Namibia</td><td>0.0</td><td>0.0</td><td>0.0</td></tr><tr><td>Turkmenistan</td><td>0.0</td><td>0.0</td><td>0.0</td></tr><tr><td>Kazakhstan</td><td>0.0</td><td>0.0</td><td>0.0</td></tr><tr><td>Mexico</td><td>0.0</td><td>0.0</td><td>0.0</td></tr><tr><td>Finland</td><td>0.0</td><td>0.0</td><td>0.0</td></tr><tr><td>Botswana</td><td>0.0</td><td>0.0</td><td>0.0</td></tr><tr><td>Burkina Faso</td><td>0.0</td><td>0.0</td><td>0.0</td></tr><tr><td>Côte d'Ivoire</td><td>0.0</td><td>0.0</td><td>0.0</td></tr><tr><td>Ghana</td><td>0.0</td><td>0.0</td><td>0.0</td></tr><tr><td>Grenada</td><td>0.0</td><td>0.0</td><td>0.0</td></tr><tr><td>Kuwait</td><td>0.0</td><td>0.0</td><td>0.0</td></tr><tr><td>Republic of Moldova</td><td>0.0</td><td>0.0</td><td>0.0</td></tr><tr><td>Syrian Arab Republic</td><td>0.0</td><td>0.0</td><td>0.0</td></tr></tbody></table></div>"
      ]
     },
     "metadata": {
      "application/vnd.databricks.v1+output": {
       "addedWidgets": {},
       "aggData": [],
       "aggError": "",
       "aggOverflow": false,
       "aggSchema": [],
       "aggSeriesLimitReached": false,
       "aggType": "",
       "arguments": {},
       "columnCustomDisplayInfos": {},
       "data": [
        [
         "United States of America",
         34.51,
         34.51,
         34.51
        ],
        [
         "People's Republic of China",
         43.18,
         43.18,
         43.18
        ],
        [
         "Japan",
         46.55,
         46.55,
         46.55
        ],
        [
         "Great Britain",
         33.85,
         33.85,
         33.85
        ],
        [
         "ROC",
         28.17,
         28.17,
         28.17
        ],
        [
         "Australia",
         36.96,
         36.96,
         36.96
        ],
        [
         "Netherlands",
         27.78,
         27.78,
         27.78
        ],
        [
         "France",
         30.3,
         30.3,
         30.3
        ],
        [
         "Germany",
         27.03,
         27.03,
         27.03
        ],
        [
         "Italy",
         25.0,
         25.0,
         25.0
        ],
        [
         "Canada",
         29.17,
         29.17,
         29.17
        ],
        [
         "Brazil",
         33.33,
         33.33,
         33.33
        ],
        [
         "New Zealand",
         35.0,
         35.0,
         35.0
        ],
        [
         "Cuba",
         46.67,
         46.67,
         46.67
        ],
        [
         "Hungary",
         30.0,
         30.0,
         30.0
        ],
        [
         "Republic of Korea",
         30.0,
         30.0,
         30.0
        ],
        [
         "Poland",
         28.57,
         28.57,
         28.57
        ],
        [
         "Czech Republic",
         36.36,
         36.36,
         36.36
        ],
        [
         "Kenya",
         40.0,
         40.0,
         40.0
        ],
        [
         "Norway",
         50.0,
         50.0,
         50.0
        ],
        [
         "Jamaica",
         44.44,
         44.44,
         44.44
        ],
        [
         "Spain",
         17.65,
         17.65,
         17.65
        ],
        [
         "Sweden",
         33.33,
         33.33,
         33.33
        ],
        [
         "Switzerland",
         23.08,
         23.08,
         23.08
        ],
        [
         "Denmark",
         27.27,
         27.27,
         27.27
        ],
        [
         "Croatia",
         37.5,
         37.5,
         37.5
        ],
        [
         "Islamic Republic of Iran",
         42.86,
         42.86,
         42.86
        ],
        [
         "Serbia",
         33.33,
         33.33,
         33.33
        ],
        [
         "Belgium",
         42.86,
         42.86,
         42.86
        ],
        [
         "Bulgaria",
         50.0,
         50.0,
         50.0
        ],
        [
         "Slovenia",
         60.0,
         60.0,
         60.0
        ],
        [
         "Uzbekistan",
         60.0,
         60.0,
         60.0
        ],
        [
         "Georgia",
         25.0,
         25.0,
         25.0
        ],
        [
         "Chinese Taipei",
         16.67,
         16.67,
         16.67
        ],
        [
         "Turkey",
         15.38,
         15.38,
         15.38
        ],
        [
         "Greece",
         50.0,
         50.0,
         50.0
        ],
        [
         "Uganda",
         50.0,
         50.0,
         50.0
        ],
        [
         "Ecuador",
         66.67,
         66.67,
         66.67
        ],
        [
         "Ireland",
         50.0,
         50.0,
         50.0
        ],
        [
         "Israel",
         50.0,
         50.0,
         50.0
        ],
        [
         "Qatar",
         66.67,
         66.67,
         66.67
        ],
        [
         "Bahamas",
         100.0,
         100.0,
         100.0
        ],
        [
         "Kosovo",
         100.0,
         100.0,
         100.0
        ],
        [
         "Ukraine",
         5.26,
         5.26,
         5.26
        ],
        [
         "Belarus",
         14.29,
         14.29,
         14.29
        ],
        [
         "Romania",
         25.0,
         25.0,
         25.0
        ],
        [
         "Venezuela",
         25.0,
         25.0,
         25.0
        ],
        [
         "India",
         14.29,
         14.29,
         14.29
        ],
        [
         "Hong Kong, China",
         16.67,
         16.67,
         16.67
        ],
        [
         "Philippines",
         25.0,
         25.0,
         25.0
        ],
        [
         "Slovakia",
         25.0,
         25.0,
         25.0
        ],
        [
         "South Africa",
         33.33,
         33.33,
         33.33
        ],
        [
         "Austria",
         14.29,
         14.29,
         14.29
        ],
        [
         "Egypt",
         16.67,
         16.67,
         16.67
        ],
        [
         "Indonesia",
         20.0,
         20.0,
         20.0
        ],
        [
         "Ethiopia",
         25.0,
         25.0,
         25.0
        ],
        [
         "Portugal",
         25.0,
         25.0,
         25.0
        ],
        [
         "Tunisia",
         50.0,
         50.0,
         50.0
        ],
        [
         "Estonia",
         50.0,
         50.0,
         50.0
        ],
        [
         "Fiji",
         50.0,
         50.0,
         50.0
        ],
        [
         "Latvia",
         50.0,
         50.0,
         50.0
        ],
        [
         "Thailand",
         50.0,
         50.0,
         50.0
        ],
        [
         "Bermuda",
         100.0,
         100.0,
         100.0
        ],
        [
         "Morocco",
         100.0,
         100.0,
         100.0
        ],
        [
         "Puerto Rico",
         100.0,
         100.0,
         100.0
        ],
        [
         "Colombia",
         0.0,
         0.0,
         0.0
        ],
        [
         "Azerbaijan",
         0.0,
         0.0,
         0.0
        ],
        [
         "Dominican Republic",
         0.0,
         0.0,
         0.0
        ],
        [
         "Armenia",
         0.0,
         0.0,
         0.0
        ],
        [
         "Kyrgyzstan",
         0.0,
         0.0,
         0.0
        ],
        [
         "Mongolia",
         0.0,
         0.0,
         0.0
        ],
        [
         "Argentina",
         0.0,
         0.0,
         0.0
        ],
        [
         "San Marino",
         0.0,
         0.0,
         0.0
        ],
        [
         "Jordan",
         0.0,
         0.0,
         0.0
        ],
        [
         "Malaysia",
         0.0,
         0.0,
         0.0
        ],
        [
         "Nigeria",
         0.0,
         0.0,
         0.0
        ],
        [
         "Bahrain",
         0.0,
         0.0,
         0.0
        ],
        [
         "Saudi Arabia",
         0.0,
         0.0,
         0.0
        ],
        [
         "Lithuania",
         0.0,
         0.0,
         0.0
        ],
        [
         "North Macedonia",
         0.0,
         0.0,
         0.0
        ],
        [
         "Namibia",
         0.0,
         0.0,
         0.0
        ],
        [
         "Turkmenistan",
         0.0,
         0.0,
         0.0
        ],
        [
         "Kazakhstan",
         0.0,
         0.0,
         0.0
        ],
        [
         "Mexico",
         0.0,
         0.0,
         0.0
        ],
        [
         "Finland",
         0.0,
         0.0,
         0.0
        ],
        [
         "Botswana",
         0.0,
         0.0,
         0.0
        ],
        [
         "Burkina Faso",
         0.0,
         0.0,
         0.0
        ],
        [
         "Côte d'Ivoire",
         0.0,
         0.0,
         0.0
        ],
        [
         "Ghana",
         0.0,
         0.0,
         0.0
        ],
        [
         "Grenada",
         0.0,
         0.0,
         0.0
        ],
        [
         "Kuwait",
         0.0,
         0.0,
         0.0
        ],
        [
         "Republic of Moldova",
         0.0,
         0.0,
         0.0
        ],
        [
         "Syrian Arab Republic",
         0.0,
         0.0,
         0.0
        ]
       ],
       "datasetInfos": [],
       "dbfsResultPath": null,
       "isJsonSchema": true,
       "metadata": {},
       "overflow": false,
       "plotOptions": {
        "customPlotOptions": {},
        "displayType": "table",
        "pivotAggregation": null,
        "pivotColumns": null,
        "xColumns": null,
        "yColumns": null
       },
       "removedWidgets": [],
       "schema": [
        {
         "metadata": "{}",
         "name": "Country",
         "type": "\"string\""
        },
        {
         "metadata": "{}",
         "name": "Gold_percentage",
         "type": "\"double\""
        },
        {
         "metadata": "{}",
         "name": "Silver_percentage",
         "type": "\"double\""
        },
        {
         "metadata": "{}",
         "name": "Bronze_percentage",
         "type": "\"double\""
        }
       ],
       "type": "table"
      }
     },
     "output_type": "display_data"
    }
   ],
   "source": [
    "display(medals_percentage_pdf)"
   ]
  },
  {
   "cell_type": "code",
   "execution_count": 0,
   "metadata": {
    "application/vnd.databricks.v1+cell": {
     "cellMetadata": {
      "byteLimit": 2048000,
      "rowLimit": 10000
     },
     "inputWidgets": {},
     "nuid": "5544fda9-a6d6-45fc-95a6-daf8e1b2c79b",
     "showTitle": false,
     "tableResultSettingsMap": {},
     "title": ""
    }
   },
   "outputs": [],
   "source": [
    "medals_percentage_pdf.to_csv(\"/tmp/medal_percentage.csv\")"
   ]
  },
  {
   "cell_type": "markdown",
   "metadata": {
    "application/vnd.databricks.v1+cell": {
     "cellMetadata": {},
     "inputWidgets": {},
     "nuid": "2561654b-82da-46aa-a1ff-6988a7ec4c66",
     "showTitle": false,
     "tableResultSettingsMap": {},
     "title": ""
    }
   },
   "source": [
    "####You can now use this csv to move the file into Azure Container after giving required configurations(Pandas does not support writing directly to Databricks File System (DBFS) paths such as dbfs:/mnt/.... The to_csv method only writes to local file paths.). For now, let's write the rest of the files to the container using normal spark write method."
   ]
  },
  {
   "cell_type": "code",
   "execution_count": 0,
   "metadata": {
    "application/vnd.databricks.v1+cell": {
     "cellMetadata": {
      "byteLimit": 2048000,
      "rowLimit": 10000
     },
     "inputWidgets": {},
     "nuid": "05806fac-65cf-49da-814f-ea689a2285cc",
     "showTitle": false,
     "tableResultSettingsMap": {},
     "title": ""
    }
   },
   "outputs": [],
   "source": [
    "coaches_df.repartition(1).write.mode(\"overwrite\").option(\"header\",\"true\").csv(\"dbfs:/mnt/tokyoolympics/transformed-data/coaches\")\n",
    "medals_df.repartition(1).write.mode(\"overwrite\").option(\"header\",\"true\").csv(\"dbfs:/mnt/tokyoolympics/transformed-data/medals\")\n",
    "entries_df.repartition(1).write.mode(\"overwrite\").option(\"header\",\"true\").csv(\"dbfs:/mnt/tokyoolympics/transformed-data/entries\")\n",
    "medals_percentage_df.repartition(1).write.mode(\"overwrite\").option(\"header\",\"true\").csv(\"dbfs:/mnt/tokyoolympics/transformed-data/medalpercentage\")"
   ]
  },
  {
   "cell_type": "markdown",
   "metadata": {
    "application/vnd.databricks.v1+cell": {
     "cellMetadata": {},
     "inputWidgets": {},
     "nuid": "444ca547-1c20-426a-a8b0-12fe36a7bf8e",
     "showTitle": false,
     "tableResultSettingsMap": {},
     "title": ""
    }
   },
   "source": [
    "###Now we have all the data in the transformed-data folder in the container which can be pulled to DataFactory or Synapse Analytics workspace for further transformation or analysis."
   ]
  }
 ],
 "metadata": {
  "application/vnd.databricks.v1+notebook": {
   "dashboards": [],
   "environmentMetadata": {
    "base_environment": "",
    "client": "1"
   },
   "language": "python",
   "notebookMetadata": {
    "mostRecentlyExecutedCommandWithImplicitDF": {
     "commandId": 2210107644937819,
     "dataframes": [
      "_sqldf"
     ]
    },
    "pythonIndentUnit": 4
   },
   "notebookName": "Olympics-DataTransformation",
   "widgets": {}
  },
  "language_info": {
   "name": "python"
  }
 },
 "nbformat": 4,
 "nbformat_minor": 0
}
